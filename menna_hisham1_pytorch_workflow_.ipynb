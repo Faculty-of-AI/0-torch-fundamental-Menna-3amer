{
  "cells": [
    {
      "cell_type": "markdown",
      "metadata": {
        "id": "view-in-github"
      },
      "source": [
        "<a href=\"https://colab.research.google.com/github/mrdbourke/pytorch-deep-learning/blob/main/extras/exercises/01_pytorch_workflow_exercises.ipynb\" target=\"_parent\"><img src=\"https://colab.research.google.com/assets/colab-badge.svg\" alt=\"Open In Colab\"/></a>"
      ]
    },
    {
      "cell_type": "markdown",
      "metadata": {
        "id": "N8LsPXZti9Sw"
      },
      "source": [
        "# 01. PyTorch Workflow Exercise Template\n",
        "\n",
        "The following is a template for the PyTorch workflow exercises.\n",
        "\n",
        "It's only starter code and it's your job to fill in the blanks.\n",
        "\n",
        "Because of the flexibility of PyTorch, there may be more than one way to answer the question.\n",
        "\n",
        "Don't worry about trying to be *right* just try writing code that suffices the question.\n",
        "\n",
        "You can see one form of [solutions on GitHub](https://github.com/mrdbourke/pytorch-deep-learning/tree/main/extras/solutions) (but try the exercises below yourself first!)."
      ]
    },
    {
      "cell_type": "markdown",
      "metadata": {
        "id": "g7HUhxCxjeBx"
      },
      "source": [
        "## 1. Create a straight line dataset using the linear regression formula (`weight * X + bias`).\n",
        "  * Set `weight=0.3` and `bias=0.9` there should be at least 100 datapoints total.\n",
        "  * Split the data into 80% training, 20% testing.\n",
        "  * Plot the training and testing data so it becomes visual.\n",
        "\n",
        "Your output of the below cell should look something like:\n",
        "```\n",
        "Number of X samples: 100\n",
        "Number of y samples: 100\n",
        "First 10 X & y samples:\n",
        "X: tensor([0.0000, 0.0100, 0.0200, 0.0300, 0.0400, 0.0500, 0.0600, 0.0700, 0.0800,\n",
        "        0.0900])\n",
        "y: tensor([0.9000, 0.9030, 0.9060, 0.9090, 0.9120, 0.9150, 0.9180, 0.9210, 0.9240,\n",
        "        0.9270])\n",
        "```\n",
        "\n",
        "Of course the numbers in `X` and `y` may be different but ideally they're created using the linear regression formula."
      ]
    },
    {
      "cell_type": "code",
      "execution_count": 26,
      "metadata": {
        "id": "KbDG5MV7jhvE",
        "colab": {
          "base_uri": "https://localhost:8080/",
          "height": 489
        },
        "outputId": "b0c43f32-c917-4413-bb26-a02479065482"
      },
      "outputs": [
        {
          "output_type": "stream",
          "name": "stdout",
          "text": [
            "Number of X samples: 100\n",
            "Number of y samples: 100\n",
            "First 10 X & y samples:\n",
            "X: tensor([0.0000, 0.0101, 0.0202, 0.0303, 0.0404, 0.0505, 0.0606, 0.0707, 0.0808,\n",
            "        0.0909])\n",
            "y: tensor([0.9000, 0.9030, 0.9061, 0.9091, 0.9121, 0.9152, 0.9182, 0.9212, 0.9242,\n",
            "        0.9273])\n"
          ]
        },
        {
          "output_type": "display_data",
          "data": {
            "text/plain": [
              "<Figure size 600x400 with 1 Axes>"
            ],
            "image/png": "[encoded data removed]"
          },
          "metadata": {}
        }
      ],
      "source": [
        "import torch\n",
        "import matplotlib.pyplot as plt\n",
        "\n",
        "weight = 0.3\n",
        "bias = 0.9\n",
        "num_samples = 100\n",
        "\n",
        "X = torch.linspace(0, 1, num_samples)\n",
        "y = weight * X + bias\n",
        "\n",
        "split = int(0.8 * num_samples)\n",
        "X_train, X_test = X[:split], X[split:]\n",
        "y_train, y_test = y[:split], y[split:]\n",
        "\n",
        "print(f\"Number of X samples: {len(X)}\")\n",
        "print(f\"Number of y samples: {len(y)}\")\n",
        "print(f\"First 10 X & y samples:\\nX: {X[:10]}\\ny: {y[:10]}\")\n",
        "\n",
        "plt.figure(figsize=(6,4))\n",
        "plt.scatter(X_train, y_train, label=\"Train\")\n",
        "plt.scatter(X_test, y_test, label=\"Test\")\n",
        "plt.legend()\n",
        "plt.show()\n"
      ]
    },
    {
      "cell_type": "markdown",
      "metadata": {
        "id": "ImZoe3v8jif8"
      },
      "source": [
        "## 2. Build a PyTorch model by subclassing `nn.Module`.\n",
        "  * Inside should be a randomly initialized `nn.Parameter()` with `requires_grad=True`, one for `weights` and one for `bias`.\n",
        "  * Implement the `forward()` method to compute the linear regression function you used to create the dataset in 1.\n",
        "  * Once you've constructed the model, make an instance of it and check its `state_dict()`.\n",
        "  * **Note:** If you'd like to use `nn.Linear()` instead of `nn.Parameter()` you can."
      ]
    },
    {
      "cell_type": "code",
      "execution_count": 27,
      "metadata": {
        "id": "qzd__Y5rjtB8",
        "colab": {
          "base_uri": "https://localhost:8080/"
        },
        "outputId": "0bb858c6-9602-4d7c-e1b1-9d52985a0a01"
      },
      "outputs": [
        {
          "output_type": "execute_result",
          "data": {
            "text/plain": [
              "OrderedDict([('weights', tensor([-0.8524], device='cuda:0')),\n",
              "             ('bias', tensor([-1.2603], device='cuda:0'))])"
            ]
          },
          "metadata": {},
          "execution_count": 27
        }
      ],
      "source": [
        "import torch.nn as nn\n",
        "\n",
        "class LinearRegressionModel(nn.Module):\n",
        "    def __init__(self):\n",
        "        super().__init__()\n",
        "        self.weights = nn.Parameter(torch.randn(1, requires_grad=True))\n",
        "        self.bias = nn.Parameter(torch.randn(1, requires_grad=True))\n",
        "\n",
        "    def forward(self, x):\n",
        "        return self.weights * x + self.bias\n",
        "\n",
        "model = LinearRegressionModel().to(\"cuda\" if torch.cuda.is_available() else \"cpu\")\n",
        "model.state_dict()\n"
      ]
    },
    {
      "cell_type": "markdown",
      "metadata": {
        "id": "G6nYOrJhjtfu"
      },
      "source": [
        "## 3. Create a loss function and optimizer using `nn.L1Loss()` and `torch.optim.SGD(params, lr)` respectively.\n",
        "  * Set the learning rate of the optimizer to be 0.01 and the parameters to optimize should be the model parameters from the model you created in 2.\n",
        "  * Write a training loop to perform the appropriate training steps for 300 epochs.\n",
        "  * The training loop should test the model on the test dataset every 20 epochs."
      ]
    },
    {
      "cell_type": "code",
      "execution_count": 28,
      "metadata": {
        "id": "ltvoZ-FWjv1j",
        "colab": {
          "base_uri": "https://localhost:8080/"
        },
        "outputId": "3a44b665-0275-4c4f-b633-27064e90e673"
      },
      "outputs": [
        {
          "output_type": "stream",
          "name": "stdout",
          "text": [
            "Epoch: 0 | Train loss: 6.937 | Test loss: 6.142\n",
            "Epoch: 20 | Train loss: 0.002 | Test loss: 0.009\n",
            "Epoch: 40 | Train loss: 0.001 | Test loss: 0.005\n",
            "Epoch: 60 | Train loss: 0.001 | Test loss: 0.003\n",
            "Epoch: 80 | Train loss: 0.001 | Test loss: 0.002\n",
            "Epoch: 100 | Train loss: 0.000 | Test loss: 0.002\n",
            "Epoch: 120 | Train loss: 0.000 | Test loss: 0.001\n",
            "Epoch: 140 | Train loss: 0.000 | Test loss: 0.001\n",
            "Epoch: 160 | Train loss: 0.000 | Test loss: 0.001\n",
            "Epoch: 180 | Train loss: 0.000 | Test loss: 0.000\n",
            "Epoch: 200 | Train loss: 0.000 | Test loss: 0.000\n",
            "Epoch: 220 | Train loss: 0.000 | Test loss: 0.000\n",
            "Epoch: 240 | Train loss: 0.000 | Test loss: 0.000\n",
            "Epoch: 260 | Train loss: 0.000 | Test loss: 0.000\n",
            "Epoch: 280 | Train loss: 0.000 | Test loss: 0.000\n",
            "Epoch: 300 | Train loss: 0.000 | Test loss: 0.000\n",
            "Epoch: 320 | Train loss: 0.000 | Test loss: 0.000\n",
            "Epoch: 340 | Train loss: 0.000 | Test loss: 0.000\n",
            "Epoch: 360 | Train loss: 0.000 | Test loss: 0.000\n",
            "Epoch: 380 | Train loss: 0.000 | Test loss: 0.000\n"
          ]
        }
      ],
      "source": [
        "loss_fn = nn.MSELoss()\n",
        "optimizer = torch.optim.SGD(model.parameters(), lr=0.1)\n",
        "device = \"cuda\" if torch.cuda.is_available() else \"cpu\"\n",
        "\n",
        "X_train, y_train = X_train.to(device), y_train.to(device)\n",
        "X_test, y_test = X_test.to(device), y_test.to(device)\n",
        "\n",
        "epochs = 400\n",
        "\n",
        "for epoch in range(epochs):\n",
        "    model.train()\n",
        "    y_pred = model(X_train)\n",
        "    loss = loss_fn(y_pred, y_train)\n",
        "    optimizer.zero_grad()\n",
        "    loss.backward()\n",
        "    optimizer.step()\n",
        "\n",
        "    if epoch % 20 == 0:\n",
        "        model.eval()\n",
        "        with torch.inference_mode():\n",
        "            test_pred = model(X_test)\n",
        "            test_loss = loss_fn(test_pred, y_test)\n",
        "        print(f\"Epoch: {epoch} | Train loss: {loss:.3f} | Test loss: {test_loss:.3f}\")\n"
      ]
    },
    {
      "cell_type": "markdown",
      "metadata": {
        "id": "x4j4TM18jwa7"
      },
      "source": [
        "## 4. Make predictions with the trained model on the test data.\n",
        "  * Visualize these predictions against the original training and testing data (**note:** you may need to make sure the predictions are *not* on the GPU if you want to use non-CUDA-enabled libraries such as matplotlib to plot)."
      ]
    },
    {
      "cell_type": "code",
      "execution_count": 29,
      "metadata": {
        "id": "bbMPK5Qjjyx_",
        "colab": {
          "base_uri": "https://localhost:8080/",
          "height": 368
        },
        "outputId": "48549edf-8deb-4358-9c84-fa99f711bd0d"
      },
      "outputs": [
        {
          "output_type": "display_data",
          "data": {
            "text/plain": [
              "<Figure size 600x400 with 1 Axes>"
            ],
            "image/png": "[encoded data removed]"
          },
          "metadata": {}
        }
      ],
      "source": [
        "model.eval()\n",
        "with torch.inference_mode():\n",
        "    y_pred = model(X_test)\n",
        "\n",
        "X_train_cpu, y_train_cpu = X_train.cpu(), y_train.cpu()\n",
        "X_test_cpu, y_test_cpu = X_test.cpu(), y_test.cpu()\n",
        "y_pred_cpu = y_pred.cpu()\n",
        "\n",
        "plt.figure(figsize=(6,4))\n",
        "plt.scatter(X_train_cpu, y_train_cpu, label=\"Train Data\")\n",
        "plt.scatter(X_test_cpu, y_test_cpu, label=\"Test Data\")\n",
        "plt.scatter(X_test_cpu, y_pred_cpu, label=\"Predictions\")\n",
        "plt.legend()\n",
        "plt.show()\n",
        "\n"
      ]
    },
    {
      "cell_type": "markdown",
      "metadata": {
        "id": "s2OnlMWKjzX8"
      },
      "source": [
        "## 5. Save your trained model's `state_dict()` to file.\n",
        "  * Create a new instance of your model class you made in 2. and load in the `state_dict()` you just saved to it.\n",
        "  * Perform predictions on your test data with the loaded model and confirm they match the original model predictions from 4."
      ]
    },
    {
      "cell_type": "code",
      "execution_count": 30,
      "metadata": {
        "id": "P9vTgiLRrJ7T",
        "colab": {
          "base_uri": "https://localhost:8080/"
        },
        "outputId": "de4e446d-9dda-415c-d1b3-6f91f4ddce3b"
      },
      "outputs": [
        {
          "output_type": "stream",
          "name": "stdout",
          "text": [
            "True\n"
          ]
        }
      ],
      "source": [
        "from pathlib import Path\n",
        "\n",
        "MODEL_PATH = Path(\"models\")\n",
        "MODEL_PATH.mkdir(parents=True, exist_ok=True)\n",
        "MODEL_NAME = \"01_pytorch_workflow_model_0.pth\"\n",
        "MODEL_SAVE_PATH = MODEL_PATH / MODEL_NAME\n",
        "\n",
        "torch.save(model.state_dict(), MODEL_SAVE_PATH)\n",
        "\n",
        "loaded_model = LinearRegressionModel()\n",
        "loaded_model.load_state_dict(torch.load(MODEL_SAVE_PATH))\n",
        "loaded_model.to(device)\n",
        "\n",
        "loaded_model.eval()\n",
        "with torch.inference_mode():\n",
        "    loaded_pred = loaded_model(X_test)\n",
        "\n",
        "print(torch.allclose(y_pred, loaded_pred))\n",
        "\n"
      ]
    },
    {
      "cell_type": "code",
      "source": [],
      "metadata": {
        "id": "cwXdQiibNEXu"
      },
      "execution_count": 30,
      "outputs": []
    }
  ],
  "metadata": {
    "accelerator": "GPU",
    "colab": {
      "provenance": []
    },
    "kernelspec": {
      "display_name": "Python 3 (ipykernel)",
      "language": "python",
      "name": "python3"
    },
    "language_info": {
      "codemirror_mode": {
        "name": "ipython",
        "version": 3
      },
      "file_extension": ".py",
      "mimetype": "text/x-python",
      "name": "python",
      "nbconvert_exporter": "python",
      "pygments_lexer": "ipython3",
      "version": "3.12.4"
    }
  },
  "nbformat": 4,
  "nbformat_minor": 0
}
